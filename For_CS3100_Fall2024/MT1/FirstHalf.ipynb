{
  "cells": [
    {
      "cell_type": "markdown",
      "metadata": {
        "id": "view-in-github",
        "colab_type": "text"
      },
      "source": [
        "<a href=\"https://colab.research.google.com/github/ganeshutah/Jove/blob/master/For_CS3100_Fall2024/MT1/MiddleThird.ipynb\" target=\"_parent\"><img src=\"https://colab.research.google.com/assets/colab-badge.svg\" alt=\"Open In Colab\"/></a>"
      ]
    },
    {
      "cell_type": "code",
      "execution_count": null,
      "metadata": {
        "run_control": {
          "frozen": false,
          "read_only": false
        },
        "id": "xPwIhPL-aGbn"
      },
      "outputs": [],
      "source": [
        "#~~~~~~~~~~~~~~~~~~~~~~~~~~~~~~~~~~~~~~~~~~~~~~~~~~~~~~~\n",
        "import sys\n",
        "\n",
        "# -- Detect if in Own Install or in Colab\n",
        "try:\n",
        "    import google.colab\n",
        "    OWN_INSTALL = False\n",
        "except:\n",
        "    OWN_INSTALL = True\n",
        "\n",
        "if OWN_INSTALL:\n",
        "\n",
        "  #---- Leave these definitions ON if running on laptop\n",
        "  #---- Else turn OFF by putting them between ''' ... '''\n",
        "\n",
        "  sys.path[0:0] = ['../../../../..',  '../../../../../3rdparty',\n",
        "                   '../../../..',  '../../../../3rdparty',\n",
        "                   '../../..',     '../../../3rdparty',\n",
        "                   '../..',        '../../3rdparty',\n",
        "                   '..',           '../3rdparty' ]\n",
        "\n",
        "else: # In colab\n",
        "  ! if [ ! -d Jove ]; then git clone https://github.com/ganeshutah/Jove Jove; fi\n",
        "  sys.path.append('./Jove')\n",
        "  sys.path.append('./Jove/jove')\n",
        "\n",
        "# -- common imports --\n",
        "from jove.DotBashers import *\n",
        "from jove.Def_md2mc  import *\n",
        "from jove.Def_DFA    import *\n",
        "from jove.Def_NFA    import *\n",
        "from jove.Def_RE2NFA import *\n",
        "from jove.LangDef    import *  # for testing DFA actions using nthnumeric if needed\n",
        "from jove.Def_NFA2RE import *\n",
        "#~~~~~~~~~~~~~~~~~~~~~~~~~~~~~~~~~~~~~~~~~~~~~~~~~~~~~~~"
      ]
    },
    {
      "cell_type": "markdown",
      "source": [
        "## Please read Exercise 7.5 starting Page 88. The Middle-Third construction begins on Page 89.\n",
        "\n",
        "## This is a starter for the code where I discuss the \"middle third\" construction in the NFA section.\n",
        "\n",
        "### Your extra-credit part (please do it on your own; don't ask fellow students, but ask us! please don't look online)\n",
        "\n",
        "### Please design a \"first half\" language - FirstHalf is the name of the language.\n",
        "\n",
        "#### * Specifically, generate a way to generate a (new) DFA (call it DFAnew) with respect to a given DFA (call it DFAin)\n",
        "\n",
        "#### * I call the output BigDFA in the construction below\n",
        "\n",
        "#### - BigDFA's language should be all \"x\" such that \"xy\" is in the language of DFAin where length(x) = length(y)\n",
        "\n",
        "### * What to submit\n",
        "\n",
        "#### - A fresh notebook - feel free to name variables better\n",
        "\n",
        "#### - The final output ought to be a good set of tests (if a test \"spins\", quit that run by hitting the stop) and make a note\n",
        "\n",
        "#### - At least nine (9) passing (finishing) and interesting languages ought to be included where the \"halves\" are verifiable.\n",
        "\n",
        "#### - The RE4 below ran too long for middle-third but a similar run may finish for the first-half\n",
        "\n",
        "##  * I PROVIDE A FEW TEST STRINGS YOU MUST INCLUDE (say 3 or 4 if all pass). You may plz provide enough to meet the quote of 9 asked (10 would be nice too). 11 is not needed since you want to make it \"interesting\" - not repetitive\n",
        "\n",
        "### - You must document all the steps precisely as in the textbook, using that style and length as a guideline\n",
        "\n",
        "### - The documentation can be alongside the Q,Sigma,delta,q0,F aspects, spending more space around delta. Need not be bloated - just precise and up to the point.\n",
        "\n",
        "### * As a closing narrative, try to write a mathematical description of your work and your observations on the construction, pointing out what you learned. About a page of a standard paper format is good. Uploading an Overleaf-typeset (or other software) as a PDF upload would be expected.\n",
        "\n",
        "### * Upload also your finished and executed notebook\n",
        "\n",
        "## We will grade based on (1) the code working (70 percent) and documentation (30 percent)\n",
        "\n",
        "#### Look for starter RE strings for FirstHalf below\n"
      ],
      "metadata": {
        "id": "ntzqZSZEEsce"
      }
    },
    {
      "cell_type": "code",
      "source": [
        "# FOR YOUR FirstHalf language\n",
        "\n",
        "RE1_FirstHalf = \"aabb\"\n",
        "\n",
        "RE2_FirstHalf = \"a*\"\n",
        "\n",
        "RE3_FirstHalf = \"a*b*\" # Try and see if this finishes and if so interpret\n",
        "\n",
        "RE4_FirstHalf = \"(ab) + (aabb)\"\n",
        "\n",
        "# ----\n",
        "\n",
        "# MiddleThird of a DFA\n",
        "\n",
        "RE1 = \"aabbcc\"\n",
        "\n",
        "RE2 = \"a*\"\n",
        "\n",
        "RE3 = \"(aa)(bb)(cc)+abc\"\n",
        "\n",
        "RE4 = \"abcabcabc\"\n",
        "\n",
        "\n",
        "REin = RE4\n",
        "\n",
        "DFAin = min_dfa(nfa2dfa(re2nfa(REin)))"
      ],
      "metadata": {
        "id": "Atw_Lv14xxk0"
      },
      "execution_count": null,
      "outputs": []
    },
    {
      "cell_type": "code",
      "source": [
        "#DFAin"
      ],
      "metadata": {
        "id": "imwArMIx9HS_"
      },
      "execution_count": null,
      "outputs": []
    },
    {
      "cell_type": "code",
      "source": [],
      "metadata": {
        "id": "51tjvSRp9ISj"
      },
      "execution_count": null,
      "outputs": []
    },
    {
      "cell_type": "code",
      "source": [
        "#ntest = re2nfa(\"a*\")"
      ],
      "metadata": {
        "id": "Ha0racd7ztrZ"
      },
      "execution_count": null,
      "outputs": []
    },
    {
      "cell_type": "code",
      "source": [
        "#ntest"
      ],
      "metadata": {
        "id": "KfFmvsy6zxtp"
      },
      "execution_count": null,
      "outputs": []
    },
    {
      "cell_type": "code",
      "source": [
        "#dd = dict({ (a,'b') : set({p,'q'})   for a in ['1','2'] for p in ['11','22']} )"
      ],
      "metadata": {
        "id": "u3E46EQ63lFo"
      },
      "execution_count": null,
      "outputs": []
    },
    {
      "cell_type": "code",
      "source": [
        "#dd[ ('1','b')]"
      ],
      "metadata": {
        "id": "ARq41cIT31Ab"
      },
      "execution_count": null,
      "outputs": []
    },
    {
      "cell_type": "code",
      "source": [
        "dotObj_dfa(DFAin)"
      ],
      "metadata": {
        "id": "t5y7PdEeyGYp"
      },
      "execution_count": null,
      "outputs": []
    },
    {
      "cell_type": "code",
      "source": [
        "QDin = DFAin[\"Q\"]\n",
        "\n",
        "Qnfa = { (x,y,z,p,q) for x in QDin for y in QDin for z in QDin for p in QDin for q in QDin }"
      ],
      "metadata": {
        "id": "6_gVO7TyyaE8"
      },
      "execution_count": null,
      "outputs": []
    },
    {
      "cell_type": "code",
      "source": [
        "#DFAin"
      ],
      "metadata": {
        "id": "Vash4SxRzkzr"
      },
      "execution_count": null,
      "outputs": []
    },
    {
      "cell_type": "code",
      "source": [
        "SigDFAin = DFAin[\"Sigma\"]"
      ],
      "metadata": {
        "id": "Vs6vRqjV1u8S"
      },
      "execution_count": null,
      "outputs": []
    },
    {
      "cell_type": "code",
      "source": [
        "#SigDFAin"
      ],
      "metadata": {
        "id": "BCLjjXPq1y6X"
      },
      "execution_count": null,
      "outputs": []
    },
    {
      "cell_type": "code",
      "source": [
        "q0DFAin = DFAin[\"q0\"]"
      ],
      "metadata": {
        "id": "R8aFHylIzJLM"
      },
      "execution_count": null,
      "outputs": []
    },
    {
      "cell_type": "code",
      "source": [
        "#q0DFAin"
      ],
      "metadata": {
        "id": "ETPt5MLXzMC0"
      },
      "execution_count": null,
      "outputs": []
    },
    {
      "cell_type": "code",
      "source": [
        "Q0NFA = { (q0DFAin, q1, q1, q2, q2) for q1 in QDin for q2 in QDin }"
      ],
      "metadata": {
        "id": "EeRpzT4qy2EY"
      },
      "execution_count": null,
      "outputs": []
    },
    {
      "cell_type": "code",
      "source": [
        "#Q0NFA"
      ],
      "metadata": {
        "id": "kBh-fZd6zaWw"
      },
      "execution_count": null,
      "outputs": []
    },
    {
      "cell_type": "code",
      "source": [
        "FNFA = { (q1,q1,q2,q2,qf) for q1 in  QDin for q2 in QDin for qf in DFAin[\"F\"]}"
      ],
      "metadata": {
        "id": "EXv6is3sz-k3"
      },
      "execution_count": null,
      "outputs": []
    },
    {
      "cell_type": "code",
      "source": [
        "#FNFA"
      ],
      "metadata": {
        "id": "spZzPCAs0bzh"
      },
      "execution_count": null,
      "outputs": []
    },
    {
      "cell_type": "code",
      "source": [
        "#DFAin[\"Delta\"]"
      ],
      "metadata": {
        "id": "3Z-l_TP-1EUc"
      },
      "execution_count": null,
      "outputs": []
    },
    {
      "cell_type": "markdown",
      "source": [
        "### Main thing for NFA"
      ],
      "metadata": {
        "id": "Vra7tvwBDBiV"
      }
    },
    {
      "cell_type": "code",
      "source": [
        "deltaNFA = dict( {\n",
        "      ((qa, q1, qb, q2, qc), y) :\n",
        "         set( { ( DFAin[\"Delta\"][(qa,c1)], q1,\n",
        "                  DFAin[\"Delta\"][(qb,y)],  q2,\n",
        "                  DFAin[\"Delta\"][(qc,c2)] )\n",
        "                 for c1 in SigDFAin\n",
        "                 for c2 in SigDFAin\n",
        "              }\n",
        "            )\n",
        "     for q1 in QDin for q2 in QDin for q3 in QDin\n",
        "     for qa in QDin for qb in QDin for qc in QDin\n",
        "     for y in SigDFAin } )"
      ],
      "metadata": {
        "id": "cbPvxJis0POz"
      },
      "execution_count": null,
      "outputs": []
    },
    {
      "cell_type": "code",
      "source": [
        "#deltaNFA"
      ],
      "metadata": {
        "id": "qbrs6dg6y3GZ"
      },
      "execution_count": null,
      "outputs": []
    },
    {
      "cell_type": "code",
      "source": [
        "help(mk_nfa)"
      ],
      "metadata": {
        "id": "YBPERf8X8SnR"
      },
      "execution_count": null,
      "outputs": []
    },
    {
      "cell_type": "code",
      "source": [
        "nBignfa =  {\"Q\":Qnfa, \"Sigma\":SigDFAin, \"Delta\":deltaNFA, \"Q0\":Q0NFA, \"F\":FNFA}"
      ],
      "metadata": {
        "id": "A0cLHURI7qea"
      },
      "execution_count": null,
      "outputs": []
    },
    {
      "cell_type": "code",
      "source": [
        "#Qnfa"
      ],
      "metadata": {
        "id": "IH8sYFHN8jmG"
      },
      "execution_count": null,
      "outputs": []
    },
    {
      "cell_type": "code",
      "source": [
        "# is_consistent_nfa_new(nBignfa)"
      ],
      "metadata": {
        "id": "Mgsig3SM75vJ"
      },
      "execution_count": null,
      "outputs": []
    },
    {
      "cell_type": "code",
      "source": [
        "BigNFA = mk_nfa(Qnfa, SigDFAin, deltaNFA, Q0NFA, FNFA)\n",
        "#q0NFA\n",
        "#SigDFAin\n",
        "#deltaNFA\n",
        "#Q0NFA\n",
        "#FNFA"
      ],
      "metadata": {
        "id": "n5sVH6yT7rrj"
      },
      "execution_count": null,
      "outputs": []
    },
    {
      "cell_type": "code",
      "source": [
        "BigNFA = mk_nfa(Qnfa, SigDFAin, deltaNFA, Q0NFA, FNFA)"
      ],
      "metadata": {
        "id": "wMYaeHhP5q5u"
      },
      "execution_count": null,
      "outputs": []
    },
    {
      "cell_type": "code",
      "source": [],
      "metadata": {
        "id": "OUtyhpx28djS"
      },
      "execution_count": null,
      "outputs": []
    },
    {
      "cell_type": "code",
      "source": [
        "BigDFA = min_dfa(nfa2dfa(BigNFA))"
      ],
      "metadata": {
        "id": "iT59ZRrw8ln4"
      },
      "execution_count": null,
      "outputs": []
    },
    {
      "cell_type": "code",
      "source": [
        "dotObj_dfa(BigDFA)"
      ],
      "metadata": {
        "id": "ta6c-MOA93bX"
      },
      "execution_count": null,
      "outputs": []
    },
    {
      "cell_type": "code",
      "source": [],
      "metadata": {
        "id": "S0pHh9PG95BU"
      },
      "execution_count": null,
      "outputs": []
    }
  ],
  "metadata": {
    "kernelspec": {
      "display_name": "Python 3",
      "language": "python",
      "name": "python3"
    },
    "language_info": {
      "codemirror_mode": {
        "name": "ipython",
        "version": 3
      },
      "file_extension": ".py",
      "mimetype": "text/x-python",
      "name": "python",
      "nbconvert_exporter": "python",
      "pygments_lexer": "ipython3",
      "version": "3.7.3"
    },
    "toc": {
      "colors": {
        "hover_highlight": "#DAA520",
        "running_highlight": "#FF0000",
        "selected_highlight": "#FFD700"
      },
      "moveMenuLeft": true,
      "nav_menu": {
        "height": "318px",
        "width": "252px"
      },
      "navigate_menu": true,
      "number_sections": true,
      "sideBar": true,
      "threshold": 4,
      "toc_cell": false,
      "toc_section_display": "block",
      "toc_window_display": false,
      "widenNotebook": false
    },
    "colab": {
      "provenance": [],
      "include_colab_link": true
    }
  },
  "nbformat": 4,
  "nbformat_minor": 0
}